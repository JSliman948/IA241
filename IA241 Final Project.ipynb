{
 "cells": [
  {
   "cell_type": "markdown",
   "id": "5c208900",
   "metadata": {},
   "source": [
    "# IA 241 Final Project"
   ]
  },
  {
   "cell_type": "markdown",
   "id": "1846d3c3",
   "metadata": {},
   "source": [
    "## Analyst Jenna Sliman\n",
    "### Data Analyzed: [European CDPC COVID Data (2020)](https://www.ecdc.europa.eu/en/publications-data/download-todays-data-geographic-distribution-covid-19-cases-worldwide)\n",
    "### Data Background: Coronavirus Disease Strand 19, otherwise known as COVID-19, instigated a global pandemic in 2020, and the rammifications of it are still felt today (May 2022). The European Centre for Disease Prevention and Control amalgamated the data that will be analyzed below "
   ]
  },
  {
   "cell_type": "markdown",
   "id": "a7e28c39",
   "metadata": {},
   "source": [
    "# Importing the European CDPC Data"
   ]
  },
  {
   "cell_type": "code",
   "execution_count": 3,
   "id": "1af9d686",
   "metadata": {},
   "outputs": [],
   "source": [
    "%matplotlib inline\n",
    "import pandas"
   ]
  },
  {
   "cell_type": "code",
   "execution_count": 4,
   "id": "5960ab7c",
   "metadata": {},
   "outputs": [],
   "source": [
    "df = pandas.read_excel(\"s3://ia241sp22sliman/covid_data.xls\")"
   ]
  },
  {
   "cell_type": "markdown",
   "id": "f2ee5175",
   "metadata": {},
   "source": [
    "# Question 1: What was the Deadliest Month Globally (of the Nations Surveyed)?"
   ]
  },
  {
   "cell_type": "code",
   "execution_count": 7,
   "id": "42c95b08",
   "metadata": {},
   "outputs": [
    {
     "data": {
      "text/plain": [
       "<AxesSubplot:xlabel='month'>"
      ]
     },
     "execution_count": 7,
     "metadata": {},
     "output_type": "execute_result"
    },
    {
     "data": {
      "image/png": "[encoded data removed]",
      "text/plain": [
       "<Figure size 432x288 with 1 Axes>"
      ]
     },
     "metadata": {
      "needs_background": "light"
     },
     "output_type": "display_data"
    }
   ],
   "source": [
    "deadliest_month = df.groupby(\"month\").sum()[\"deaths\"]\n",
    "deadliest_month.plot()"
   ]
  },
  {
   "cell_type": "markdown",
   "id": "9e717289",
   "metadata": {},
   "source": [
    "#### The above line graph depicts the global death toll for COVID-19. The month is measured on the x axis, and the amount of deaths is measured on the y-axis. I took the dataset, and grouped it first by the month variable. Then I found the deaths variable, and found the nexus between the two. In other words, I plotted the deaths based on what month it was. A line graph was the best choice to show the change over time. As one can surmise, November, the 11th month, was the deadliest month in 2020 in terms of death by COVID-19. April (Month 4) was the second deadliest month. "
   ]
  },
  {
   "cell_type": "markdown",
   "id": "116fd6c5",
   "metadata": {},
   "source": [
    "# Question 2: Which Continent Had the Most Deaths?"
   ]
  },
  {
   "cell_type": "code",
   "execution_count": 16,
   "id": "e2837be8",
   "metadata": {},
   "outputs": [
    {
     "data": {
      "text/plain": [
       "<AxesSubplot:xlabel='continentExp'>"
      ]
     },
     "execution_count": 16,
     "metadata": {},
     "output_type": "execute_result"
    },
    {
     "data": {
      "image/png": "[encoded data removed]",
      "text/plain": [
       "<Figure size 432x288 with 1 Axes>"
      ]
     },
     "metadata": {
      "needs_background": "light"
     },
     "output_type": "display_data"
    }
   ],
   "source": [
    "deadliest_cont = df.groupby(\"continentExp\").sum()[\"deaths\"]\n",
    "deadliest_cont.nlargest(7).plot.bar()\n"
   ]
  },
  {
   "cell_type": "markdown",
   "id": "44678660",
   "metadata": {},
   "source": [
    "#### This graph depicts which continent had the most deaths. The continent is listed on the x axis and the number of deaths is listed on the y axis. The death data was calculated by combining the deaths of individual nations based on what continent they were located (the Americas, Europe, Asia, Africa, Oceania, and Other). The Americas (north and south) had the highest death rates, followed by Europe, Asia, Africa, Oceania, and finally Other. A bar graph was most appropriate since we are comparing similar-type variables. "
   ]
  },
  {
   "cell_type": "markdown",
   "id": "76957ed6",
   "metadata": {},
   "source": [
    "# Question 3: How Does the Number of Cases Compare With the Number of Deaths in Turkey?"
   ]
  },
  {
   "cell_type": "code",
   "execution_count": 17,
   "id": "c60199f4",
   "metadata": {},
   "outputs": [
    {
     "data": {
      "text/html": [
       "<div>\n",
       "<style scoped>\n",
       "    .dataframe tbody tr th:only-of-type {\n",
       "        vertical-align: middle;\n",
       "    }\n",
       "\n",
       "    .dataframe tbody tr th {\n",
       "        vertical-align: top;\n",
       "    }\n",
       "\n",
       "    .dataframe thead th {\n",
       "        text-align: right;\n",
       "    }\n",
       "</style>\n",
       "<table border=\"1\" class=\"dataframe\">\n",
       "  <thead>\n",
       "    <tr style=\"text-align: right;\">\n",
       "      <th></th>\n",
       "      <th>dateRep</th>\n",
       "      <th>day</th>\n",
       "      <th>month</th>\n",
       "      <th>year</th>\n",
       "      <th>cases</th>\n",
       "      <th>deaths</th>\n",
       "      <th>countriesAndTerritories</th>\n",
       "      <th>geoId</th>\n",
       "      <th>countryterritoryCode</th>\n",
       "      <th>popData2019</th>\n",
       "      <th>continentExp</th>\n",
       "      <th>Cumulative_number_for_14_days_of_COVID-19_cases_per_100000</th>\n",
       "    </tr>\n",
       "  </thead>\n",
       "  <tbody>\n",
       "    <tr>\n",
       "      <th>56949</th>\n",
       "      <td>14/12/2020</td>\n",
       "      <td>14</td>\n",
       "      <td>12</td>\n",
       "      <td>2020</td>\n",
       "      <td>29136</td>\n",
       "      <td>222</td>\n",
       "      <td>Turkey</td>\n",
       "      <td>TR</td>\n",
       "      <td>TUR</td>\n",
       "      <td>82003882.0</td>\n",
       "      <td>Europe</td>\n",
       "      <td>499.220269</td>\n",
       "    </tr>\n",
       "    <tr>\n",
       "      <th>56950</th>\n",
       "      <td>13/12/2020</td>\n",
       "      <td>13</td>\n",
       "      <td>12</td>\n",
       "      <td>2020</td>\n",
       "      <td>32106</td>\n",
       "      <td>226</td>\n",
       "      <td>Turkey</td>\n",
       "      <td>TR</td>\n",
       "      <td>TUR</td>\n",
       "      <td>82003882.0</td>\n",
       "      <td>Europe</td>\n",
       "      <td>499.397090</td>\n",
       "    </tr>\n",
       "    <tr>\n",
       "      <th>56951</th>\n",
       "      <td>2020-12-12 00:00:00</td>\n",
       "      <td>12</td>\n",
       "      <td>12</td>\n",
       "      <td>2020</td>\n",
       "      <td>0</td>\n",
       "      <td>0</td>\n",
       "      <td>Turkey</td>\n",
       "      <td>TR</td>\n",
       "      <td>TUR</td>\n",
       "      <td>82003882.0</td>\n",
       "      <td>Europe</td>\n",
       "      <td>496.954522</td>\n",
       "    </tr>\n",
       "    <tr>\n",
       "      <th>56952</th>\n",
       "      <td>2020-11-12 00:00:00</td>\n",
       "      <td>11</td>\n",
       "      <td>12</td>\n",
       "      <td>2020</td>\n",
       "      <td>30424</td>\n",
       "      <td>220</td>\n",
       "      <td>Turkey</td>\n",
       "      <td>TR</td>\n",
       "      <td>TUR</td>\n",
       "      <td>82003882.0</td>\n",
       "      <td>Europe</td>\n",
       "      <td>533.349141</td>\n",
       "    </tr>\n",
       "    <tr>\n",
       "      <th>56953</th>\n",
       "      <td>2020-10-12 00:00:00</td>\n",
       "      <td>10</td>\n",
       "      <td>12</td>\n",
       "      <td>2020</td>\n",
       "      <td>31712</td>\n",
       "      <td>217</td>\n",
       "      <td>Turkey</td>\n",
       "      <td>TR</td>\n",
       "      <td>TUR</td>\n",
       "      <td>82003882.0</td>\n",
       "      <td>Europe</td>\n",
       "      <td>531.773606</td>\n",
       "    </tr>\n",
       "    <tr>\n",
       "      <th>...</th>\n",
       "      <td>...</td>\n",
       "      <td>...</td>\n",
       "      <td>...</td>\n",
       "      <td>...</td>\n",
       "      <td>...</td>\n",
       "      <td>...</td>\n",
       "      <td>...</td>\n",
       "      <td>...</td>\n",
       "      <td>...</td>\n",
       "      <td>...</td>\n",
       "      <td>...</td>\n",
       "      <td>...</td>\n",
       "    </tr>\n",
       "    <tr>\n",
       "      <th>57220</th>\n",
       "      <td>18/03/2020</td>\n",
       "      <td>18</td>\n",
       "      <td>3</td>\n",
       "      <td>2020</td>\n",
       "      <td>51</td>\n",
       "      <td>0</td>\n",
       "      <td>Turkey</td>\n",
       "      <td>TR</td>\n",
       "      <td>TUR</td>\n",
       "      <td>82003882.0</td>\n",
       "      <td>Europe</td>\n",
       "      <td>NaN</td>\n",
       "    </tr>\n",
       "    <tr>\n",
       "      <th>57221</th>\n",
       "      <td>17/03/2020</td>\n",
       "      <td>17</td>\n",
       "      <td>3</td>\n",
       "      <td>2020</td>\n",
       "      <td>29</td>\n",
       "      <td>0</td>\n",
       "      <td>Turkey</td>\n",
       "      <td>TR</td>\n",
       "      <td>TUR</td>\n",
       "      <td>82003882.0</td>\n",
       "      <td>Europe</td>\n",
       "      <td>NaN</td>\n",
       "    </tr>\n",
       "    <tr>\n",
       "      <th>57222</th>\n",
       "      <td>16/03/2020</td>\n",
       "      <td>16</td>\n",
       "      <td>3</td>\n",
       "      <td>2020</td>\n",
       "      <td>16</td>\n",
       "      <td>0</td>\n",
       "      <td>Turkey</td>\n",
       "      <td>TR</td>\n",
       "      <td>TUR</td>\n",
       "      <td>82003882.0</td>\n",
       "      <td>Europe</td>\n",
       "      <td>NaN</td>\n",
       "    </tr>\n",
       "    <tr>\n",
       "      <th>57223</th>\n",
       "      <td>13/03/2020</td>\n",
       "      <td>13</td>\n",
       "      <td>3</td>\n",
       "      <td>2020</td>\n",
       "      <td>1</td>\n",
       "      <td>0</td>\n",
       "      <td>Turkey</td>\n",
       "      <td>TR</td>\n",
       "      <td>TUR</td>\n",
       "      <td>82003882.0</td>\n",
       "      <td>Europe</td>\n",
       "      <td>NaN</td>\n",
       "    </tr>\n",
       "    <tr>\n",
       "      <th>57224</th>\n",
       "      <td>2020-12-03 00:00:00</td>\n",
       "      <td>12</td>\n",
       "      <td>3</td>\n",
       "      <td>2020</td>\n",
       "      <td>1</td>\n",
       "      <td>0</td>\n",
       "      <td>Turkey</td>\n",
       "      <td>TR</td>\n",
       "      <td>TUR</td>\n",
       "      <td>82003882.0</td>\n",
       "      <td>Europe</td>\n",
       "      <td>NaN</td>\n",
       "    </tr>\n",
       "  </tbody>\n",
       "</table>\n",
       "<p>276 rows × 12 columns</p>\n",
       "</div>"
      ],
      "text/plain": [
       "                   dateRep  day  month  year  cases  deaths  \\\n",
       "56949           14/12/2020   14     12  2020  29136     222   \n",
       "56950           13/12/2020   13     12  2020  32106     226   \n",
       "56951  2020-12-12 00:00:00   12     12  2020      0       0   \n",
       "56952  2020-11-12 00:00:00   11     12  2020  30424     220   \n",
       "56953  2020-10-12 00:00:00   10     12  2020  31712     217   \n",
       "...                    ...  ...    ...   ...    ...     ...   \n",
       "57220           18/03/2020   18      3  2020     51       0   \n",
       "57221           17/03/2020   17      3  2020     29       0   \n",
       "57222           16/03/2020   16      3  2020     16       0   \n",
       "57223           13/03/2020   13      3  2020      1       0   \n",
       "57224  2020-12-03 00:00:00   12      3  2020      1       0   \n",
       "\n",
       "      countriesAndTerritories geoId countryterritoryCode  popData2019  \\\n",
       "56949                  Turkey    TR                  TUR   82003882.0   \n",
       "56950                  Turkey    TR                  TUR   82003882.0   \n",
       "56951                  Turkey    TR                  TUR   82003882.0   \n",
       "56952                  Turkey    TR                  TUR   82003882.0   \n",
       "56953                  Turkey    TR                  TUR   82003882.0   \n",
       "...                       ...   ...                  ...          ...   \n",
       "57220                  Turkey    TR                  TUR   82003882.0   \n",
       "57221                  Turkey    TR                  TUR   82003882.0   \n",
       "57222                  Turkey    TR                  TUR   82003882.0   \n",
       "57223                  Turkey    TR                  TUR   82003882.0   \n",
       "57224                  Turkey    TR                  TUR   82003882.0   \n",
       "\n",
       "      continentExp  Cumulative_number_for_14_days_of_COVID-19_cases_per_100000  \n",
       "56949       Europe                                         499.220269           \n",
       "56950       Europe                                         499.397090           \n",
       "56951       Europe                                         496.954522           \n",
       "56952       Europe                                         533.349141           \n",
       "56953       Europe                                         531.773606           \n",
       "...            ...                                                ...           \n",
       "57220       Europe                                                NaN           \n",
       "57221       Europe                                                NaN           \n",
       "57222       Europe                                                NaN           \n",
       "57223       Europe                                                NaN           \n",
       "57224       Europe                                                NaN           \n",
       "\n",
       "[276 rows x 12 columns]"
      ]
     },
     "execution_count": 17,
     "metadata": {},
     "output_type": "execute_result"
    }
   ],
   "source": [
    "#This steps involves isolating the data on Turkey\n",
    "turkey_data = df.loc[df[\"countriesAndTerritories\"] == \"Turkey\"]\n",
    "turkey_data[:]"
   ]
  },
  {
   "cell_type": "code",
   "execution_count": 23,
   "id": "fb5014a5",
   "metadata": {},
   "outputs": [
    {
     "data": {
      "text/plain": [
       "<AxesSubplot:xlabel='deaths', ylabel='cases'>"
      ]
     },
     "execution_count": 23,
     "metadata": {},
     "output_type": "execute_result"
    },
    {
     "data": {
      "image/png": "[encoded data removed]",
      "text/plain": [
       "<Figure size 432x288 with 1 Axes>"
      ]
     },
     "metadata": {
      "needs_background": "light"
     },
     "output_type": "display_data"
    }
   ],
   "source": [
    "#this step involved comparing the number of cases in Turkey with the number of deaths\n",
    "turkey_data.plot.scatter(x = \"deaths\", y = \"cases\")"
   ]
  },
  {
   "cell_type": "markdown",
   "id": "00375bf3",
   "metadata": {},
   "source": [
    "#### This graph demonstrates the relationship between number of cases and number of deaths in Turkey. Number of deaths are listed along the x axis, and number of cases are listed on the y-axis. As one can surmise, there was a loosely positive correlation between the number of cases and number of deaths. As one variable increased, so did the other. A scatterplot was chosen to display this data since it shows a more detailed trend over time. "
   ]
  },
  {
   "cell_type": "markdown",
   "id": "112645ba",
   "metadata": {},
   "source": [
    "# Author Information\n",
    "## Jenna Sliman\n",
    "## slimanjn@dukes.jmu.edu\n"
   ]
  },
  {
   "cell_type": "markdown",
   "id": "25937ab4",
   "metadata": {},
   "source": [
    "# Conclusion and Limitations "
   ]
  },
  {
   "cell_type": "markdown",
   "id": "94d83a87",
   "metadata": {},
   "source": [
    "#### In summary, this project examined the European CDPC data on COVID-19 in the year 2020. It examined it on a global scale and on a local scale (Turkey). The first two questions, death rate globally and deadliest continent, determined that the deadliest month was November, and that the deadliest continent was the Americas, respectively. One minor note about the deadliest continent examination was that the Americas aren't a continent, but rather, a region of the world (North America and South America are two separate continents located in the Western Hemisphere. The third question discussed the relationship between number of cases and number of deaths in Turkey. The author selected Turkey for further analysis as she has ethnic and cultural ties to the nation. As suspected, as cases increased, so did deaths, making it a positive correlation (albeit loosely). Limitations experienced included only using the European CDPC data, as well as asking three questions as opposed to more than three questions. Future improvement would be asking more than three questions, as well as verifying that the European CDPC data is accurate with outside research. There is no additionaly and optional information to further add to this assessment. "
   ]
  },
  {
   "cell_type": "code",
   "execution_count": null,
   "id": "3b1db030",
   "metadata": {},
   "outputs": [],
   "source": []
  }
 ],
 "metadata": {
  "kernelspec": {
   "display_name": "conda_python3",
   "language": "python",
   "name": "conda_python3"
  },
  "language_info": {
   "codemirror_mode": {
    "name": "ipython",
    "version": 3
   },
   "file_extension": ".py",
   "mimetype": "text/x-python",
   "name": "python",
   "nbconvert_exporter": "python",
   "pygments_lexer": "ipython3",
   "version": "3.6.13"
  }
 },
 "nbformat": 4,
 "nbformat_minor": 5
}
